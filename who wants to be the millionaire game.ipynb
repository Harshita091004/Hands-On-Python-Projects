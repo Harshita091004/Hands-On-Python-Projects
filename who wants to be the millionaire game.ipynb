{
 "cells": [
  {
   "cell_type": "code",
   "execution_count": 18,
   "id": "75417326-ecd6-4995-98e4-bf231300615c",
   "metadata": {},
   "outputs": [
    {
     "name": "stdout",
     "output_type": "stream",
     "text": [
      "what is python ?\n",
      "a. snake\n",
      "b. speaking language\n",
      "c. coding language\n",
      "d. none\n"
     ]
    },
    {
     "name": "stdin",
     "output_type": "stream",
     "text": [
      "enter 1 for a, 2 for b, 3 for c, 4 for d 3\n"
     ]
    },
    {
     "name": "stdout",
     "output_type": "stream",
     "text": [
      "correct answer\n",
      "you won prize of 1000\n",
      "which data type is immuatble?\n",
      "a. list\n",
      "b. dict\n",
      "c. set\n",
      "d. tuple\n"
     ]
    },
    {
     "name": "stdin",
     "output_type": "stream",
     "text": [
      "enter 1 for a, 2 for b, 3 for c, 4 for d 4\n"
     ]
    },
    {
     "name": "stdout",
     "output_type": "stream",
     "text": [
      "correct answer\n",
      "you won prize of 3000\n",
      "which method removes the last item from a list?\n",
      "a. delete()\n",
      "b. pop()\n",
      "c. remove()\n",
      "d. discard()\n"
     ]
    },
    {
     "name": "stdin",
     "output_type": "stream",
     "text": [
      "enter 1 for a, 2 for b, 3 for c, 4 for d 2\n"
     ]
    },
    {
     "name": "stdout",
     "output_type": "stream",
     "text": [
      "correct answer\n",
      "you won prize of 6000\n",
      "which method is used to add an item to a list?\n",
      "a. add()\n",
      "b. append()\n",
      "c. insert()\n",
      "d. extend()\n"
     ]
    },
    {
     "name": "stdin",
     "output_type": "stream",
     "text": [
      "enter 1 for a, 2 for b, 3 for c, 4 for d 1\n"
     ]
    },
    {
     "name": "stdout",
     "output_type": "stream",
     "text": [
      "Incorrect! , correct answer was 2\n",
      "Better Luck Next Time\n"
     ]
    }
   ],
   "source": [
    "questions = [[\"what is python ?\",\"snake\",\"speaking language\",\"coding language\",\"none\",3],\n",
    "            [\"which data type is immuatble?\",\"list\",\"dict\",\"set\",\"tuple\",4],\n",
    "            [\"which method removes the last item from a list?\",\"delete()\",\"pop()\",\"remove()\",\"discard()\",2],\n",
    "            [\"which method is used to add an item to a list?\",\"add()\",\"append()\",\"insert()\",\"extend()\",2],\n",
    "            [\"which keyword is used for conditional execution in python?\",\"loop\",\"def\",\"if\",\"lambda\",3],\n",
    "            [\"which keyword is used to define a function in python?\",\"define\",\"func\",\"function\",\"def\",4]\n",
    "            ]\n",
    "prizes = [1000, 2000, 3000, 4000, 5000, 6000]\n",
    "i=0\n",
    "sum=0\n",
    "for question in questions :\n",
    "    print(question[0])\n",
    "    print(f\"a. {question[1]}\")\n",
    "    print(f\"b. {question[2]}\")\n",
    "    print(f\"c. {question[3]}\")\n",
    "    print(f\"d. {question[4]}\")\n",
    "\n",
    "    ans = int(input(\"enter 1 for a, 2 for b, 3 for c, 4 for d\"))\n",
    "    if(question[5]== ans) :\n",
    "        print(\"correct answer\")\n",
    "    else :\n",
    "        print(f\"Incorrect! , correct answer was {question[5]}\")\n",
    "        print(\"Better Luck Next Time\")\n",
    "        break\n",
    "    sum += prizes[i]\n",
    "    print(f\"you won prize of {sum}\")\n",
    "    i += 1\n",
    "\n",
    "\n",
    "    "
   ]
  },
  {
   "cell_type": "code",
   "execution_count": null,
   "id": "3a738dd7-a3a4-46e5-b774-28048808acb2",
   "metadata": {},
   "outputs": [],
   "source": []
  },
  {
   "cell_type": "code",
   "execution_count": null,
   "id": "b2cfd57b-a566-46d0-8e6d-16a5e826f589",
   "metadata": {},
   "outputs": [],
   "source": []
  }
 ],
 "metadata": {
  "kernelspec": {
   "display_name": "Python [conda env:base] *",
   "language": "python",
   "name": "conda-base-py"
  },
  "language_info": {
   "codemirror_mode": {
    "name": "ipython",
    "version": 3
   },
   "file_extension": ".py",
   "mimetype": "text/x-python",
   "name": "python",
   "nbconvert_exporter": "python",
   "pygments_lexer": "ipython3",
   "version": "3.12.7"
  }
 },
 "nbformat": 4,
 "nbformat_minor": 5
}
