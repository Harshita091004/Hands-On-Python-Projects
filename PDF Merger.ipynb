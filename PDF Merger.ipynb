{
 "cells": [
  {
   "cell_type": "code",
   "execution_count": 10,
   "id": "c8f6bc6c-17bd-4e48-9bfb-384e9125c481",
   "metadata": {},
   "outputs": [
    {
     "name": "stdin",
     "output_type": "stream",
     "text": [
      "enter the number of pdfs you want to merge 2\n",
      " enter the name of pdf 1  letter.pdf\n",
      " enter the name of pdf 2  genral.pdf\n"
     ]
    },
    {
     "name": "stdout",
     "output_type": "stream",
     "text": [
      "merged pdf created successfully : merged_pdf.pdf\n"
     ]
    }
   ],
   "source": [
    "from PyPDF2 import PdfWriter\n",
    "merger = PdfWriter()\n",
    "\n",
    "pdfs=[]\n",
    "n=int(input(\"enter the number of pdfs you want to merge\"))\n",
    "for i in range (0,n):\n",
    "    name = input(f\" enter the name of pdf {i+1} \")\n",
    "    pdfs.append(name)\n",
    "for pdf in pdfs :\n",
    "    merger.append(pdf)\n",
    "output_file= \"merged_pdf.pdf\"\n",
    "merger.write(output_file)\n",
    "merger.close()\n",
    "print(f\"merged pdf created successfully : {output_file}\")"
   ]
  },
  {
   "cell_type": "code",
   "execution_count": null,
   "id": "d4d37083-4c5f-43f3-9851-6fc10a235399",
   "metadata": {},
   "outputs": [],
   "source": []
  },
  {
   "cell_type": "code",
   "execution_count": null,
   "id": "34f7c348-fc7a-4b03-bd98-551efeb99d7c",
   "metadata": {},
   "outputs": [],
   "source": []
  },
  {
   "cell_type": "code",
   "execution_count": null,
   "id": "cbfce63a-2c5c-4fce-a7ea-e5eb425cb209",
   "metadata": {},
   "outputs": [],
   "source": []
  }
 ],
 "metadata": {
  "kernelspec": {
   "display_name": "Python [conda env:base] *",
   "language": "python",
   "name": "conda-base-py"
  },
  "language_info": {
   "codemirror_mode": {
    "name": "ipython",
    "version": 3
   },
   "file_extension": ".py",
   "mimetype": "text/x-python",
   "name": "python",
   "nbconvert_exporter": "python",
   "pygments_lexer": "ipython3",
   "version": "3.12.7"
  }
 },
 "nbformat": 4,
 "nbformat_minor": 5
}
