{
 "cells": [
  {
   "cell_type": "code",
   "execution_count": 3,
   "id": "8804aae0-b999-4b13-b07e-db3df5fae59c",
   "metadata": {},
   "outputs": [
    {
     "name": "stdin",
     "output_type": "stream",
     "text": [
      " Enter the First number :  10\n",
      " Enter the Second number :  20\n"
     ]
    },
    {
     "name": "stdout",
     "output_type": "stream",
     "text": [
      " What operation would you like to perform ?\n",
      " press + for addition \n",
      " - for substraction \n",
      " * for multiplication \n",
      " / for division  \n"
     ]
    },
    {
     "name": "stdin",
     "output_type": "stream",
     "text": [
      "Enter the operation +\n"
     ]
    },
    {
     "name": "stdout",
     "output_type": "stream",
     "text": [
      " the result is : 30\n"
     ]
    }
   ],
   "source": [
    "# Basic Calculator \n",
    "\n",
    "try:\n",
    "    a = int(input(\" Enter the First number : \"))\n",
    "    b = int(input(\" Enter the Second number : \"))\n",
    "    print(\" What operation would you like to perform ?\\n press + for addition \\n - for substraction \\n * for multiplication \\n / for division  \")\n",
    "    o = input(\"Enter the operation\")\n",
    "    match o :\n",
    "       case \"+\":\n",
    "           print(f\" the result is : {a+b}\") \n",
    "       case \"-\":\n",
    "           print(f\" the result is : {a-b}\") \n",
    "       case \"*\":\n",
    "           print(f\" the result is : {a*b}\") \n",
    "       case \"/\":\n",
    "           print(f\" the result is : {a/b}\") \n",
    "       case default :\n",
    "          print(\" There was some Error\")\n",
    "except Exception as e :\n",
    "    print(\" Enter the valid values for a and b \")"
   ]
  },
  {
   "cell_type": "code",
   "execution_count": null,
   "id": "2fdd3131-74ea-42b5-8d65-be150c271891",
   "metadata": {},
   "outputs": [],
   "source": []
  }
 ],
 "metadata": {
  "kernelspec": {
   "display_name": "Python [conda env:base] *",
   "language": "python",
   "name": "conda-base-py"
  },
  "language_info": {
   "codemirror_mode": {
    "name": "ipython",
    "version": 3
   },
   "file_extension": ".py",
   "mimetype": "text/x-python",
   "name": "python",
   "nbconvert_exporter": "python",
   "pygments_lexer": "ipython3",
   "version": "3.12.7"
  }
 },
 "nbformat": 4,
 "nbformat_minor": 5
}
